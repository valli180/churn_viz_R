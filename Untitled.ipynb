{
 "cells": [
  {
   "cell_type": "code",
   "execution_count": 4,
   "id": "5edd11d1-f9c7-4096-a40b-aacdcd805de9",
   "metadata": {},
   "outputs": [
    {
     "name": "stderr",
     "output_type": "stream",
     "text": [
      "\n",
      "Attaching package: ‘dashBootstrapComponents’\n",
      "\n",
      "\n",
      "The following objects are masked from ‘package:dash’:\n",
      "\n",
      "    dbcAccordion, dbcAccordionItem, dbcAlert, dbcBadge, dbcBreadcrumb,\n",
      "    dbcButton, dbcButtonGroup, dbcCard, dbcCardBody, dbcCardFooter,\n",
      "    dbcCardGroup, dbcCardHeader, dbcCardImg, dbcCardImgOverlay,\n",
      "    dbcCardLink, dbcCarousel, dbcCheckbox, dbcChecklist, dbcCol,\n",
      "    dbcCollapse, dbcContainer, dbcDropdownMenu, dbcDropdownMenuItem,\n",
      "    dbcFade, dbcForm, dbcFormFeedback, dbcFormFloating, dbcFormText,\n",
      "    dbcInput, dbcInputGroup, dbcInputGroupText, dbcLabel, dbcListGroup,\n",
      "    dbcListGroupItem, dbcModal, dbcModalBody, dbcModalFooter,\n",
      "    dbcModalHeader, dbcModalTitle, dbcNav, dbcNavItem, dbcNavLink,\n",
      "    dbcNavbar, dbcNavbarBrand, dbcNavbarSimple, dbcNavbarToggler,\n",
      "    dbcOffcanvas, dbcPagination, dbcPopover, dbcPopoverBody,\n",
      "    dbcPopoverHeader, dbcProgress, dbcRadioButton, dbcRadioItems,\n",
      "    dbcRow, dbcSelect, dbcSpinner, dbcSwitch, dbcTab, dbcTable,\n",
      "    dbcTabs, dbcTextarea, dbcThemes, dbcToast, dbcTooltip\n",
      "\n",
      "\n",
      "\n",
      "Attaching package: ‘plotly’\n",
      "\n",
      "\n",
      "The following object is masked from ‘package:ggplot2’:\n",
      "\n",
      "    last_plot\n",
      "\n",
      "\n",
      "The following object is masked from ‘package:stats’:\n",
      "\n",
      "    filter\n",
      "\n",
      "\n",
      "The following object is masked from ‘package:graphics’:\n",
      "\n",
      "    layout\n",
      "\n",
      "\n"
     ]
    }
   ],
   "source": [
    "library(dash)\n",
    "library(dashBootstrapComponents)\n",
    "library(dashHtmlComponents)\n",
    "library(ggplot2)\n",
    "library(plotly)\n"
   ]
  },
  {
   "cell_type": "code",
   "execution_count": 5,
   "id": "806e67d1-2522-4049-884a-4c04a74454b2",
   "metadata": {},
   "outputs": [
    {
     "data": {
      "text/html": [
       "<table class=\"dataframe\">\n",
       "<caption>A data.frame: 6 × 22</caption>\n",
       "<thead>\n",
       "\t<tr><th></th><th scope=col>X</th><th scope=col>Account_Length</th><th scope=col>Vmail_Message</th><th scope=col>Day_Mins</th><th scope=col>Eve_Mins</th><th scope=col>Night_Mins</th><th scope=col>Intl_Mins</th><th scope=col>CustServ_Calls</th><th scope=col>Churn</th><th scope=col>Intl_Plan</th><th scope=col>⋯</th><th scope=col>Day_Charge</th><th scope=col>Eve_Calls</th><th scope=col>Eve_Charge</th><th scope=col>Night_Calls</th><th scope=col>Night_Charge</th><th scope=col>Intl_Calls</th><th scope=col>Intl_Charge</th><th scope=col>State</th><th scope=col>Area_Code</th><th scope=col>Phone</th></tr>\n",
       "\t<tr><th></th><th scope=col>&lt;int&gt;</th><th scope=col>&lt;int&gt;</th><th scope=col>&lt;int&gt;</th><th scope=col>&lt;dbl&gt;</th><th scope=col>&lt;dbl&gt;</th><th scope=col>&lt;dbl&gt;</th><th scope=col>&lt;dbl&gt;</th><th scope=col>&lt;int&gt;</th><th scope=col>&lt;chr&gt;</th><th scope=col>&lt;chr&gt;</th><th scope=col>⋯</th><th scope=col>&lt;dbl&gt;</th><th scope=col>&lt;int&gt;</th><th scope=col>&lt;dbl&gt;</th><th scope=col>&lt;int&gt;</th><th scope=col>&lt;dbl&gt;</th><th scope=col>&lt;int&gt;</th><th scope=col>&lt;dbl&gt;</th><th scope=col>&lt;chr&gt;</th><th scope=col>&lt;int&gt;</th><th scope=col>&lt;chr&gt;</th></tr>\n",
       "</thead>\n",
       "<tbody>\n",
       "\t<tr><th scope=row>1</th><td>0</td><td>128</td><td>25</td><td>265.1</td><td>197.4</td><td>244.7</td><td>10.0</td><td>1</td><td>no</td><td>no </td><td>⋯</td><td>45.07</td><td> 99</td><td>16.78</td><td> 91</td><td>11.01</td><td>3</td><td>2.70</td><td>KS</td><td>415</td><td>382-4657</td></tr>\n",
       "\t<tr><th scope=row>2</th><td>1</td><td>107</td><td>26</td><td>161.6</td><td>195.5</td><td>254.4</td><td>13.7</td><td>1</td><td>no</td><td>no </td><td>⋯</td><td>27.47</td><td>103</td><td>16.62</td><td>103</td><td>11.45</td><td>3</td><td>3.70</td><td>OH</td><td>415</td><td>371-7191</td></tr>\n",
       "\t<tr><th scope=row>3</th><td>2</td><td>137</td><td> 0</td><td>243.4</td><td>121.2</td><td>162.6</td><td>12.2</td><td>0</td><td>no</td><td>no </td><td>⋯</td><td>41.38</td><td>110</td><td>10.30</td><td>104</td><td> 7.32</td><td>5</td><td>3.29</td><td>NJ</td><td>415</td><td>358-1921</td></tr>\n",
       "\t<tr><th scope=row>4</th><td>3</td><td> 84</td><td> 0</td><td>299.4</td><td> 61.9</td><td>196.9</td><td> 6.6</td><td>2</td><td>no</td><td>yes</td><td>⋯</td><td>50.90</td><td> 88</td><td> 5.26</td><td> 89</td><td> 8.86</td><td>7</td><td>1.78</td><td>OH</td><td>408</td><td>375-9999</td></tr>\n",
       "\t<tr><th scope=row>5</th><td>4</td><td> 75</td><td> 0</td><td>166.7</td><td>148.3</td><td>186.9</td><td>10.1</td><td>3</td><td>no</td><td>yes</td><td>⋯</td><td>28.34</td><td>122</td><td>12.61</td><td>121</td><td> 8.41</td><td>3</td><td>2.73</td><td>OK</td><td>415</td><td>330-6626</td></tr>\n",
       "\t<tr><th scope=row>6</th><td>5</td><td>118</td><td> 0</td><td>223.4</td><td>220.6</td><td>203.9</td><td> 6.3</td><td>0</td><td>no</td><td>yes</td><td>⋯</td><td>37.98</td><td>101</td><td>18.75</td><td>118</td><td> 9.18</td><td>6</td><td>1.70</td><td>AL</td><td>510</td><td>391-8027</td></tr>\n",
       "</tbody>\n",
       "</table>\n"
      ],
      "text/latex": [
       "A data.frame: 6 × 22\n",
       "\\begin{tabular}{r|lllllllllllllllllllll}\n",
       "  & X & Account\\_Length & Vmail\\_Message & Day\\_Mins & Eve\\_Mins & Night\\_Mins & Intl\\_Mins & CustServ\\_Calls & Churn & Intl\\_Plan & ⋯ & Day\\_Charge & Eve\\_Calls & Eve\\_Charge & Night\\_Calls & Night\\_Charge & Intl\\_Calls & Intl\\_Charge & State & Area\\_Code & Phone\\\\\n",
       "  & <int> & <int> & <int> & <dbl> & <dbl> & <dbl> & <dbl> & <int> & <chr> & <chr> & ⋯ & <dbl> & <int> & <dbl> & <int> & <dbl> & <int> & <dbl> & <chr> & <int> & <chr>\\\\\n",
       "\\hline\n",
       "\t1 & 0 & 128 & 25 & 265.1 & 197.4 & 244.7 & 10.0 & 1 & no & no  & ⋯ & 45.07 &  99 & 16.78 &  91 & 11.01 & 3 & 2.70 & KS & 415 & 382-4657\\\\\n",
       "\t2 & 1 & 107 & 26 & 161.6 & 195.5 & 254.4 & 13.7 & 1 & no & no  & ⋯ & 27.47 & 103 & 16.62 & 103 & 11.45 & 3 & 3.70 & OH & 415 & 371-7191\\\\\n",
       "\t3 & 2 & 137 &  0 & 243.4 & 121.2 & 162.6 & 12.2 & 0 & no & no  & ⋯ & 41.38 & 110 & 10.30 & 104 &  7.32 & 5 & 3.29 & NJ & 415 & 358-1921\\\\\n",
       "\t4 & 3 &  84 &  0 & 299.4 &  61.9 & 196.9 &  6.6 & 2 & no & yes & ⋯ & 50.90 &  88 &  5.26 &  89 &  8.86 & 7 & 1.78 & OH & 408 & 375-9999\\\\\n",
       "\t5 & 4 &  75 &  0 & 166.7 & 148.3 & 186.9 & 10.1 & 3 & no & yes & ⋯ & 28.34 & 122 & 12.61 & 121 &  8.41 & 3 & 2.73 & OK & 415 & 330-6626\\\\\n",
       "\t6 & 5 & 118 &  0 & 223.4 & 220.6 & 203.9 &  6.3 & 0 & no & yes & ⋯ & 37.98 & 101 & 18.75 & 118 &  9.18 & 6 & 1.70 & AL & 510 & 391-8027\\\\\n",
       "\\end{tabular}\n"
      ],
      "text/markdown": [
       "\n",
       "A data.frame: 6 × 22\n",
       "\n",
       "| <!--/--> | X &lt;int&gt; | Account_Length &lt;int&gt; | Vmail_Message &lt;int&gt; | Day_Mins &lt;dbl&gt; | Eve_Mins &lt;dbl&gt; | Night_Mins &lt;dbl&gt; | Intl_Mins &lt;dbl&gt; | CustServ_Calls &lt;int&gt; | Churn &lt;chr&gt; | Intl_Plan &lt;chr&gt; | ⋯ ⋯ | Day_Charge &lt;dbl&gt; | Eve_Calls &lt;int&gt; | Eve_Charge &lt;dbl&gt; | Night_Calls &lt;int&gt; | Night_Charge &lt;dbl&gt; | Intl_Calls &lt;int&gt; | Intl_Charge &lt;dbl&gt; | State &lt;chr&gt; | Area_Code &lt;int&gt; | Phone &lt;chr&gt; |\n",
       "|---|---|---|---|---|---|---|---|---|---|---|---|---|---|---|---|---|---|---|---|---|---|\n",
       "| 1 | 0 | 128 | 25 | 265.1 | 197.4 | 244.7 | 10.0 | 1 | no | no  | ⋯ | 45.07 |  99 | 16.78 |  91 | 11.01 | 3 | 2.70 | KS | 415 | 382-4657 |\n",
       "| 2 | 1 | 107 | 26 | 161.6 | 195.5 | 254.4 | 13.7 | 1 | no | no  | ⋯ | 27.47 | 103 | 16.62 | 103 | 11.45 | 3 | 3.70 | OH | 415 | 371-7191 |\n",
       "| 3 | 2 | 137 |  0 | 243.4 | 121.2 | 162.6 | 12.2 | 0 | no | no  | ⋯ | 41.38 | 110 | 10.30 | 104 |  7.32 | 5 | 3.29 | NJ | 415 | 358-1921 |\n",
       "| 4 | 3 |  84 |  0 | 299.4 |  61.9 | 196.9 |  6.6 | 2 | no | yes | ⋯ | 50.90 |  88 |  5.26 |  89 |  8.86 | 7 | 1.78 | OH | 408 | 375-9999 |\n",
       "| 5 | 4 |  75 |  0 | 166.7 | 148.3 | 186.9 | 10.1 | 3 | no | yes | ⋯ | 28.34 | 122 | 12.61 | 121 |  8.41 | 3 | 2.73 | OK | 415 | 330-6626 |\n",
       "| 6 | 5 | 118 |  0 | 223.4 | 220.6 | 203.9 |  6.3 | 0 | no | yes | ⋯ | 37.98 | 101 | 18.75 | 118 |  9.18 | 6 | 1.70 | AL | 510 | 391-8027 |\n",
       "\n"
      ],
      "text/plain": [
       "  X Account_Length Vmail_Message Day_Mins Eve_Mins Night_Mins Intl_Mins\n",
       "1 0 128            25            265.1    197.4    244.7      10.0     \n",
       "2 1 107            26            161.6    195.5    254.4      13.7     \n",
       "3 2 137             0            243.4    121.2    162.6      12.2     \n",
       "4 3  84             0            299.4     61.9    196.9       6.6     \n",
       "5 4  75             0            166.7    148.3    186.9      10.1     \n",
       "6 5 118             0            223.4    220.6    203.9       6.3     \n",
       "  CustServ_Calls Churn Intl_Plan ⋯ Day_Charge Eve_Calls Eve_Charge Night_Calls\n",
       "1 1              no    no        ⋯ 45.07       99       16.78       91        \n",
       "2 1              no    no        ⋯ 27.47      103       16.62      103        \n",
       "3 0              no    no        ⋯ 41.38      110       10.30      104        \n",
       "4 2              no    yes       ⋯ 50.90       88        5.26       89        \n",
       "5 3              no    yes       ⋯ 28.34      122       12.61      121        \n",
       "6 0              no    yes       ⋯ 37.98      101       18.75      118        \n",
       "  Night_Charge Intl_Calls Intl_Charge State Area_Code Phone   \n",
       "1 11.01        3          2.70        KS    415       382-4657\n",
       "2 11.45        3          3.70        OH    415       371-7191\n",
       "3  7.32        5          3.29        NJ    415       358-1921\n",
       "4  8.86        7          1.78        OH    408       375-9999\n",
       "5  8.41        3          2.73        OK    415       330-6626\n",
       "6  9.18        6          1.70        AL    510       391-8027"
      ]
     },
     "metadata": {},
     "output_type": "display_data"
    }
   ],
   "source": [
    "df = read.csv(\"data/customer_churn.csv\")\n",
    "head(df)"
   ]
  },
  {
   "cell_type": "code",
   "execution_count": 6,
   "id": "38565649-2c66-4aab-9265-9d3dcbffab03",
   "metadata": {},
   "outputs": [],
   "source": [
    "numerical_features_to_analyze = c('Account_Length', 'Vmail_Message', 'Day_Mins', 'Eve_Mins',\n",
    "       'Night_Mins', 'Intl_Mins', 'CustServ_Calls', 'Day_Calls', 'Day_Charge',\n",
    "       'Eve_Calls', 'Eve_Charge', 'Night_Calls', 'Night_Charge', 'Intl_Calls',\n",
    "       'Intl_Charge', 'Churn')\n"
   ]
  },
  {
   "cell_type": "code",
   "execution_count": 7,
   "id": "8c39d6f1-5852-4bb8-bd5a-ff401e9e0935",
   "metadata": {},
   "outputs": [
    {
     "name": "stderr",
     "output_type": "stream",
     "text": [
      "Note: Using an external vector in selections is ambiguous.\n",
      "\u001b[34mℹ\u001b[39m Use `all_of(numerical_features_to_analyze)` instead of `numerical_features_to_analyze` to silence this message.\n",
      "\u001b[34mℹ\u001b[39m See <https://tidyselect.r-lib.org/reference/faq-external-vector.html>.\n",
      "\u001b[90mThis message is displayed once per session.\u001b[39m\n",
      "\n"
     ]
    }
   ],
   "source": [
    "df_new <- df |>\n",
    "    select(numerical_features_to_analyze)"
   ]
  },
  {
   "cell_type": "code",
   "execution_count": 8,
   "id": "c1b2c158-653d-4bea-ba3e-c7c04d644d22",
   "metadata": {},
   "outputs": [
    {
     "data": {
      "text/html": [
       "<table class=\"dataframe\">\n",
       "<caption>A data.frame: 6 × 16</caption>\n",
       "<thead>\n",
       "\t<tr><th></th><th scope=col>Account_Length</th><th scope=col>Vmail_Message</th><th scope=col>Day_Mins</th><th scope=col>Eve_Mins</th><th scope=col>Night_Mins</th><th scope=col>Intl_Mins</th><th scope=col>CustServ_Calls</th><th scope=col>Day_Calls</th><th scope=col>Day_Charge</th><th scope=col>Eve_Calls</th><th scope=col>Eve_Charge</th><th scope=col>Night_Calls</th><th scope=col>Night_Charge</th><th scope=col>Intl_Calls</th><th scope=col>Intl_Charge</th><th scope=col>Churn</th></tr>\n",
       "\t<tr><th></th><th scope=col>&lt;int&gt;</th><th scope=col>&lt;int&gt;</th><th scope=col>&lt;dbl&gt;</th><th scope=col>&lt;dbl&gt;</th><th scope=col>&lt;dbl&gt;</th><th scope=col>&lt;dbl&gt;</th><th scope=col>&lt;int&gt;</th><th scope=col>&lt;int&gt;</th><th scope=col>&lt;dbl&gt;</th><th scope=col>&lt;int&gt;</th><th scope=col>&lt;dbl&gt;</th><th scope=col>&lt;int&gt;</th><th scope=col>&lt;dbl&gt;</th><th scope=col>&lt;int&gt;</th><th scope=col>&lt;dbl&gt;</th><th scope=col>&lt;chr&gt;</th></tr>\n",
       "</thead>\n",
       "<tbody>\n",
       "\t<tr><th scope=row>1</th><td>128</td><td>25</td><td>265.1</td><td>197.4</td><td>244.7</td><td>10.0</td><td>1</td><td>110</td><td>45.07</td><td> 99</td><td>16.78</td><td> 91</td><td>11.01</td><td>3</td><td>2.70</td><td>no</td></tr>\n",
       "\t<tr><th scope=row>2</th><td>107</td><td>26</td><td>161.6</td><td>195.5</td><td>254.4</td><td>13.7</td><td>1</td><td>123</td><td>27.47</td><td>103</td><td>16.62</td><td>103</td><td>11.45</td><td>3</td><td>3.70</td><td>no</td></tr>\n",
       "\t<tr><th scope=row>3</th><td>137</td><td> 0</td><td>243.4</td><td>121.2</td><td>162.6</td><td>12.2</td><td>0</td><td>114</td><td>41.38</td><td>110</td><td>10.30</td><td>104</td><td> 7.32</td><td>5</td><td>3.29</td><td>no</td></tr>\n",
       "\t<tr><th scope=row>4</th><td> 84</td><td> 0</td><td>299.4</td><td> 61.9</td><td>196.9</td><td> 6.6</td><td>2</td><td> 71</td><td>50.90</td><td> 88</td><td> 5.26</td><td> 89</td><td> 8.86</td><td>7</td><td>1.78</td><td>no</td></tr>\n",
       "\t<tr><th scope=row>5</th><td> 75</td><td> 0</td><td>166.7</td><td>148.3</td><td>186.9</td><td>10.1</td><td>3</td><td>113</td><td>28.34</td><td>122</td><td>12.61</td><td>121</td><td> 8.41</td><td>3</td><td>2.73</td><td>no</td></tr>\n",
       "\t<tr><th scope=row>6</th><td>118</td><td> 0</td><td>223.4</td><td>220.6</td><td>203.9</td><td> 6.3</td><td>0</td><td> 98</td><td>37.98</td><td>101</td><td>18.75</td><td>118</td><td> 9.18</td><td>6</td><td>1.70</td><td>no</td></tr>\n",
       "</tbody>\n",
       "</table>\n"
      ],
      "text/latex": [
       "A data.frame: 6 × 16\n",
       "\\begin{tabular}{r|llllllllllllllll}\n",
       "  & Account\\_Length & Vmail\\_Message & Day\\_Mins & Eve\\_Mins & Night\\_Mins & Intl\\_Mins & CustServ\\_Calls & Day\\_Calls & Day\\_Charge & Eve\\_Calls & Eve\\_Charge & Night\\_Calls & Night\\_Charge & Intl\\_Calls & Intl\\_Charge & Churn\\\\\n",
       "  & <int> & <int> & <dbl> & <dbl> & <dbl> & <dbl> & <int> & <int> & <dbl> & <int> & <dbl> & <int> & <dbl> & <int> & <dbl> & <chr>\\\\\n",
       "\\hline\n",
       "\t1 & 128 & 25 & 265.1 & 197.4 & 244.7 & 10.0 & 1 & 110 & 45.07 &  99 & 16.78 &  91 & 11.01 & 3 & 2.70 & no\\\\\n",
       "\t2 & 107 & 26 & 161.6 & 195.5 & 254.4 & 13.7 & 1 & 123 & 27.47 & 103 & 16.62 & 103 & 11.45 & 3 & 3.70 & no\\\\\n",
       "\t3 & 137 &  0 & 243.4 & 121.2 & 162.6 & 12.2 & 0 & 114 & 41.38 & 110 & 10.30 & 104 &  7.32 & 5 & 3.29 & no\\\\\n",
       "\t4 &  84 &  0 & 299.4 &  61.9 & 196.9 &  6.6 & 2 &  71 & 50.90 &  88 &  5.26 &  89 &  8.86 & 7 & 1.78 & no\\\\\n",
       "\t5 &  75 &  0 & 166.7 & 148.3 & 186.9 & 10.1 & 3 & 113 & 28.34 & 122 & 12.61 & 121 &  8.41 & 3 & 2.73 & no\\\\\n",
       "\t6 & 118 &  0 & 223.4 & 220.6 & 203.9 &  6.3 & 0 &  98 & 37.98 & 101 & 18.75 & 118 &  9.18 & 6 & 1.70 & no\\\\\n",
       "\\end{tabular}\n"
      ],
      "text/markdown": [
       "\n",
       "A data.frame: 6 × 16\n",
       "\n",
       "| <!--/--> | Account_Length &lt;int&gt; | Vmail_Message &lt;int&gt; | Day_Mins &lt;dbl&gt; | Eve_Mins &lt;dbl&gt; | Night_Mins &lt;dbl&gt; | Intl_Mins &lt;dbl&gt; | CustServ_Calls &lt;int&gt; | Day_Calls &lt;int&gt; | Day_Charge &lt;dbl&gt; | Eve_Calls &lt;int&gt; | Eve_Charge &lt;dbl&gt; | Night_Calls &lt;int&gt; | Night_Charge &lt;dbl&gt; | Intl_Calls &lt;int&gt; | Intl_Charge &lt;dbl&gt; | Churn &lt;chr&gt; |\n",
       "|---|---|---|---|---|---|---|---|---|---|---|---|---|---|---|---|---|\n",
       "| 1 | 128 | 25 | 265.1 | 197.4 | 244.7 | 10.0 | 1 | 110 | 45.07 |  99 | 16.78 |  91 | 11.01 | 3 | 2.70 | no |\n",
       "| 2 | 107 | 26 | 161.6 | 195.5 | 254.4 | 13.7 | 1 | 123 | 27.47 | 103 | 16.62 | 103 | 11.45 | 3 | 3.70 | no |\n",
       "| 3 | 137 |  0 | 243.4 | 121.2 | 162.6 | 12.2 | 0 | 114 | 41.38 | 110 | 10.30 | 104 |  7.32 | 5 | 3.29 | no |\n",
       "| 4 |  84 |  0 | 299.4 |  61.9 | 196.9 |  6.6 | 2 |  71 | 50.90 |  88 |  5.26 |  89 |  8.86 | 7 | 1.78 | no |\n",
       "| 5 |  75 |  0 | 166.7 | 148.3 | 186.9 | 10.1 | 3 | 113 | 28.34 | 122 | 12.61 | 121 |  8.41 | 3 | 2.73 | no |\n",
       "| 6 | 118 |  0 | 223.4 | 220.6 | 203.9 |  6.3 | 0 |  98 | 37.98 | 101 | 18.75 | 118 |  9.18 | 6 | 1.70 | no |\n",
       "\n"
      ],
      "text/plain": [
       "  Account_Length Vmail_Message Day_Mins Eve_Mins Night_Mins Intl_Mins\n",
       "1 128            25            265.1    197.4    244.7      10.0     \n",
       "2 107            26            161.6    195.5    254.4      13.7     \n",
       "3 137             0            243.4    121.2    162.6      12.2     \n",
       "4  84             0            299.4     61.9    196.9       6.6     \n",
       "5  75             0            166.7    148.3    186.9      10.1     \n",
       "6 118             0            223.4    220.6    203.9       6.3     \n",
       "  CustServ_Calls Day_Calls Day_Charge Eve_Calls Eve_Charge Night_Calls\n",
       "1 1              110       45.07       99       16.78       91        \n",
       "2 1              123       27.47      103       16.62      103        \n",
       "3 0              114       41.38      110       10.30      104        \n",
       "4 2               71       50.90       88        5.26       89        \n",
       "5 3              113       28.34      122       12.61      121        \n",
       "6 0               98       37.98      101       18.75      118        \n",
       "  Night_Charge Intl_Calls Intl_Charge Churn\n",
       "1 11.01        3          2.70        no   \n",
       "2 11.45        3          3.70        no   \n",
       "3  7.32        5          3.29        no   \n",
       "4  8.86        7          1.78        no   \n",
       "5  8.41        3          2.73        no   \n",
       "6  9.18        6          1.70        no   "
      ]
     },
     "metadata": {},
     "output_type": "display_data"
    }
   ],
   "source": [
    "head(df_new)"
   ]
  },
  {
   "cell_type": "code",
   "execution_count": 14,
   "id": "449b8a21-831b-4572-8256-da62cb282a83",
   "metadata": {},
   "outputs": [],
   "source": [
    "#plot <- function(col) {\n",
    "p <- ggplot(df_new) +\n",
    "    aes(x = Night_Mins,\n",
    "        y = Churn,\n",
    "        color = Churn,\n",
    "        #text = name\n",
    "       ) +\n",
    "    geom_histogram() +\n",
    "    scale_x_log10() +\n",
    "    ggthemes::scale_color_tableau()\n",
    "#ggplotly(p)\n",
    "    #}"
   ]
  },
  {
   "cell_type": "code",
   "execution_count": 15,
   "id": "eadf4706-6cbe-4174-aa13-46111fc4ba7d",
   "metadata": {},
   "outputs": [
    {
     "name": "stderr",
     "output_type": "stream",
     "text": [
      "ERROR while rich displaying an object: Error: stat_bin() can only have an x or y aesthetic.\n",
      "\n",
      "Traceback:\n",
      "1. FUN(X[[i]], ...)\n",
      "2. tryCatch(withCallingHandlers({\n",
      " .     if (!mime %in% names(repr::mime2repr)) \n",
      " .         stop(\"No repr_* for mimetype \", mime, \" in repr::mime2repr\")\n",
      " .     rpr <- repr::mime2repr[[mime]](obj)\n",
      " .     if (is.null(rpr)) \n",
      " .         return(NULL)\n",
      " .     prepare_content(is.raw(rpr), rpr)\n",
      " . }, error = error_handler), error = outer_handler)\n",
      "3. tryCatchList(expr, classes, parentenv, handlers)\n",
      "4. tryCatchOne(expr, names, parentenv, handlers[[1L]])\n",
      "5. doTryCatch(return(expr), name, parentenv, handler)\n",
      "6. withCallingHandlers({\n",
      " .     if (!mime %in% names(repr::mime2repr)) \n",
      " .         stop(\"No repr_* for mimetype \", mime, \" in repr::mime2repr\")\n",
      " .     rpr <- repr::mime2repr[[mime]](obj)\n",
      " .     if (is.null(rpr)) \n",
      " .         return(NULL)\n",
      " .     prepare_content(is.raw(rpr), rpr)\n",
      " . }, error = error_handler)\n",
      "7. repr::mime2repr[[mime]](obj)\n",
      "8. repr_text.default(obj)\n",
      "9. paste(capture.output(print(obj)), collapse = \"\\n\")\n",
      "10. capture.output(print(obj))\n",
      "11. withVisible(...elt(i))\n",
      "12. print(obj)\n",
      "13. print.ggplot(obj)\n",
      "14. ggplot_build(x)\n",
      "15. ggplot_build.ggplot(x)\n",
      "16. by_layer(function(l, d) l$compute_statistic(d, layout))\n",
      "17. f(l = layers[[i]], d = data[[i]])\n",
      "18. l$compute_statistic(d, layout)\n",
      "19. f(..., self = self)\n",
      "20. self$stat$setup_params(data, self$stat_params)\n",
      "21. f(...)\n",
      "22. abort(\"stat_bin() can only have an x or y aesthetic.\")\n",
      "23. signal_abort(cnd)\n"
     ]
    },
    {
     "data": {
      "image/png": "[encoded data removed]",
      "text/plain": [
       "plot without title"
      ]
     },
     "metadata": {
      "image/png": {
       "height": 420,
       "width": 420
      }
     },
     "output_type": "display_data"
    }
   ],
   "source": [
    "p"
   ]
  },
  {
   "cell_type": "code",
   "execution_count": 1,
   "id": "a1d76d2c-dc36-4b48-b9a3-205d644ff187",
   "metadata": {},
   "outputs": [],
   "source": [
    "result <- plot"
   ]
  },
  {
   "cell_type": "code",
   "execution_count": null,
   "id": "c2e65f88-5017-43e8-b08d-eac59da23b0a",
   "metadata": {},
   "outputs": [],
   "source": []
  }
 ],
 "metadata": {
  "kernelspec": {
   "display_name": "R",
   "language": "R",
   "name": "ir"
  },
  "language_info": {
   "codemirror_mode": "r",
   "file_extension": ".r",
   "mimetype": "text/x-r-source",
   "name": "R",
   "pygments_lexer": "r",
   "version": "4.1.1"
  }
 },
 "nbformat": 4,
 "nbformat_minor": 5
}
